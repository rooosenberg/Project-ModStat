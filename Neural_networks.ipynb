{
 "cells": [
  {
   "cell_type": "markdown",
   "metadata": {},
   "source": [
    "# Neural Networks \n",
    "Neural network for the Spotify dataset "
   ]
  },
  {
   "cell_type": "code",
   "execution_count": null,
   "metadata": {},
   "outputs": [],
   "source": [
    "# Import the basic packages for ML\n",
    "import numpy as np\n",
    "import matplotlib.pyplot as plt\n",
    "from sklearn import neighbors\n",
    "from sklearn.model_selection import KFold\n",
    "from sklearn.model_selection import cross_val_score\n",
    "\n",
    "import pandas as pd\n",
    "%matplotlib inline\n",
    "\n",
    "# visualization library\n",
    "import seaborn as sns\n",
    "sns.set(style=\"white\", color_codes=True)\n",
    "sns.set_context(rc={\"font.family\":'sans',\"font.size\":24,\"axes.titlesize\":24,\"axes.labelsize\":24}) \n",
    "\n",
    "#Libraries to create the Multi-class Neural Network\n",
    "from keras.models import Sequential\n",
    "from keras.layers import Dense\n",
    "from keras.wrappers.scikit_learn import KerasClassifier\n",
    "from keras.utils import np_utils\n",
    "\n",
    "#Import tensorflow and disable the v2 behavior and eager mode\n",
    "import tensorflow as tf\n",
    "tf.compat.v1.disable_eager_execution()\n",
    "tf.compat.v1.disable_v2_behavior()"
   ]
  },
  {
   "cell_type": "code",
   "execution_count": null,
   "metadata": {},
   "outputs": [],
   "source": [
    "# download test data \n",
    "df = pd.read_csv (r'C:\\Users\\Emelie\\Documents\\Modern method in ML\\Project\\project_train.csv')\n",
    "# download train data \n",
    "X_testR = pd.read_csv (r'C:\\Users\\Emelie\\Documents\\Modern method in ML\\Project\\project_test.csv')\n",
    "\n",
    "# take away outliers\n",
    "#df = df.drop([68,94,84], axis=0)\n",
    "\n",
    "#seperating the data  \n",
    "X = df.iloc[:, :-1].values\n",
    "y = df.iloc[:, 11].values\n",
    "\n",
    "# we split the training data into validation and training data\n",
    "from sklearn.model_selection import train_test_split\n",
    "X_train, X_test, y_train, y_test = train_test_split(X, y, test_size=0.20)\n"
   ]
  },
  {
   "cell_type": "markdown",
   "metadata": {},
   "source": [
    "### Scaling for training "
   ]
  },
  {
   "cell_type": "code",
   "execution_count": null,
   "metadata": {},
   "outputs": [],
   "source": [
    "from sklearn.preprocessing import StandardScaler\n",
    "scaler = StandardScaler()\n",
    "scaler.fit(X) # scale against train data\n",
    "\n",
    "X_scaled = scaler.transform(X) \n",
    "X_scaledR = scaler.transform(X_testR)"
   ]
  },
  {
   "cell_type": "markdown",
   "metadata": {},
   "source": [
    "### Model for data model with augumented data"
   ]
  },
  {
   "cell_type": "code",
   "execution_count": null,
   "metadata": {},
   "outputs": [],
   "source": [
    "\n",
    "model = Sequential()\n",
    "# hidden layer with 20 neurons and input dim of 11\n",
    "model.add(Dense(20,input_dim=11,activation='relu'))\n",
    "# output layer\n",
    "model.add(Dense(1,activation='sigmoid'))\n",
    "# backpropagation with a binary loss function \n",
    "model.compile(loss='binary_crossentropy',optimizer='adam',\n",
    "              metrics=['accuracy'])\n"
   ]
  },
  {
   "cell_type": "markdown",
   "metadata": {},
   "source": [
    "### Function for model"
   ]
  },
  {
   "cell_type": "code",
   "execution_count": null,
   "metadata": {},
   "outputs": [],
   "source": [
    "def NN_model():\n",
    "    \n",
    "    model = Sequential()\n",
    "\n",
    "    model.add(Dense(20,input_dim=11,activation='relu'))\n",
    "\n",
    "    model.add(Dense(1,activation='sigmoid'))\n",
    "\n",
    "    model.compile(loss='binary_crossentropy',optimizer='adam',\n",
    "              metrics=['accuracy'])\n",
    "    return model\n",
    "# Batc is amount of points I take out of my data at each time and put into my model. \n",
    "# Epochs is the amount of interations that I do in the classifier. \n",
    "#The amount of time I go back with the gradient = epoch/(batch size)*(size of training data) "
   ]
  },
  {
   "cell_type": "markdown",
   "metadata": {},
   "source": [
    "### Without augmented data "
   ]
  },
  {
   "cell_type": "code",
   "execution_count": null,
   "metadata": {},
   "outputs": [],
   "source": [
    "kf = KFold(n_splits=5, random_state=1234, shuffle=True)\n",
    "kf.get_n_splits(X)\n",
    "result = []\n",
    "\n",
    "for train_index, test_index in kf.split(X_scaled):\n",
    "    model = NN_model()\n",
    "    print(\"TRAIN:\", train_index, \"TEST:\", test_index)\n",
    "    X_train, X_test = X_scaled[train_index], X_scaled[test_index]\n",
    "    y_train, y_test = y[train_index], y[test_index]\n",
    "        \n",
    "    # creating validation data\n",
    "    X_train, X_val, y_train, y_val = train_test_split(X_train, y_train, test_size=0.05)\n",
    "        \n",
    "    # creating new arrays for augmented data\n",
    "    X = X_train\n",
    "    Y = y_train   \n",
    "            \n",
    "    # Combining new data plus original data\n",
    "    model.fit(X,Y,epochs=80,batch_size=10,validation_data=(X_val, y_val))\n",
    "    #model.fit(X,Y,epochs=300,batch_size=100)\n",
    "    ypred = model.predict_classes(X_scaledR)\n",
    "    results = model.evaluate(X_test, y_test, batch_size=100)\n",
    "    result.append(results)\n",
    "        \n",
    "print(result)"
   ]
  },
  {
   "cell_type": "markdown",
   "metadata": {},
   "source": [
    "### Model with augmented data"
   ]
  },
  {
   "cell_type": "markdown",
   "metadata": {},
   "source": [
    "#### Function that created augmented data"
   ]
  },
  {
   "cell_type": "code",
   "execution_count": null,
   "metadata": {},
   "outputs": [],
   "source": [
    "def radiation_noise(data, alpha_range=(0.9, 1.1), beta=1 / 25):\n",
    "        alpha = np.random.uniform(*alpha_range)\n",
    "        noise = np.random.normal(loc=0.0, scale=1.0, size=data.shape)\n",
    "        return alpha * data + beta * noise"
   ]
  },
  {
   "cell_type": "markdown",
   "metadata": {},
   "source": [
    "Performs the NN algorithm and doing cross validation with validation data "
   ]
  },
  {
   "cell_type": "code",
   "execution_count": null,
   "metadata": {
    "scrolled": true
   },
   "outputs": [],
   "source": [
    "kf = KFold(n_splits=5, random_state=1234, shuffle=True)\n",
    "kf.get_n_splits(X)\n",
    "result = []\n",
    "\n",
    "for train_index, test_index in kf.split(X_scaled):\n",
    "    model = NN_model()\n",
    "    print(\"TRAIN:\", train_index, \"TEST:\", test_index)\n",
    "    X_train, X_test = X_scaled[train_index], X_scaled[test_index]\n",
    "    y_train, y_test = y[train_index], y[test_index]\n",
    "        \n",
    "    # creating validation data\n",
    "    X_train, X_val, y_train, y_val = train_test_split(X_train, y_train, test_size=0.05)\n",
    "        \n",
    "    # creating new arrays for augmented data\n",
    "    X_DA = np.zeros((X_train.shape[0]*10, X_train.shape[1]))\n",
    "    Y_DA = np.zeros(X_train.shape[0]*10)\n",
    "    X = X_train\n",
    "    Y = y_train\n",
    "        \n",
    "    for j in range(10):\n",
    "        X_DA = radiation_noise(X_train)\n",
    "        Y_DA = y_train\n",
    "        X = np.concatenate((X, X_DA))  \n",
    "        Y = np.concatenate((Y, Y_DA))\n",
    "            \n",
    "    # Combining new data plus original data\n",
    "    model.fit(X,Y,epochs=80,batch_size=10,validation_data=(X_val, y_val))\n",
    "    #model.fit(X,Y,epochs=300,batch_size=100)\n",
    "    ypred = model.predict_classes(X_scaledR)\n",
    "    results = model.evaluate(X_test, y_test, batch_size=100)\n",
    "    result.append(results)\n",
    "        \n",
    "print(result)\n",
    "        "
   ]
  },
  {
   "cell_type": "code",
   "execution_count": null,
   "metadata": {},
   "outputs": [],
   "source": [
    "result_np = np.asarray(result)"
   ]
  },
  {
   "cell_type": "code",
   "execution_count": null,
   "metadata": {},
   "outputs": [],
   "source": [
    "np.mean(result_np[:,1])\n",
    "np.var(result_np[:,1])"
   ]
  },
  {
   "cell_type": "markdown",
   "metadata": {},
   "source": [
    "### Validation and plots\n",
    "Run model with all the data and validation "
   ]
  },
  {
   "cell_type": "code",
   "execution_count": null,
   "metadata": {},
   "outputs": [],
   "source": [
    "n = 5 #amount of trials we do\n",
    "Y_predtot = np.zeros((n, X_scaledR.shape[0]))\n",
    "\n",
    "for i in range(n):\n",
    "    model = NN_model()\n",
    "    X_train = X_scaled\n",
    "    y_train = y\n",
    "        \n",
    "    # Creating validation data \n",
    "    X, X_val, Y, y_val = train_test_split(X_train, y_train, test_size=0.10)        \n",
    "        \n",
    "    # creating new arrays for augmented data\n",
    "    X_DA = np.zeros((X_train.shape[0]*10, X_train.shape[1]))\n",
    "    Y_DA = np.zeros(X_train.shape[0]*10)\n",
    "    X = X_train\n",
    "    Y = y_train\n",
    "        \n",
    "    for j in range(10):\n",
    "        X_DA = radiation_noise(X_train)\n",
    "        Y_DA = y_train\n",
    "        X = np.concatenate((X, X_DA))  \n",
    "        Y = np.concatenate((Y, Y_DA))\n",
    "        \n",
    "    # Creating validation data \n",
    "    X, X_val, Y, y_val = train_test_split(X_DA, Y_DA, test_size=0.10)\n",
    "    # Combining new data plus original data\n",
    "    history = model.fit(X,Y,epochs=250,batch_size=100,validation_data=(X_val, y_val))\n",
    "    #model.fit(X,Y,epochs=300,batch_size=100)\n",
    "        \n",
    "    #make it to a dataframe\n",
    "    #df = pd.DataFrame (ypred)\n",
    "    #save to xlsx file\n",
    "    #filepath = 'result_{}.xlsx'.format(i)\n",
    "    #Save to computer\n",
    "    #df.to_excel(filepath, index=False)\n",
    "        \n",
    "    # list all data in history\n",
    "    print(history.history.keys())\n",
    "    # summarize history for accuracy\n",
    "    plt.plot(history.history['accuracy'])\n",
    "    plt.plot(history.history['val_accuracy'])\n",
    "    plt.title('model accuracy')\n",
    "    plt.ylabel('accuracy')\n",
    "    plt.xlabel('epoch')\n",
    "    plt.legend(['train', 'test_val'], loc='upper left')\n",
    "    plt.show()\n",
    "    # summarize history for loss\n",
    "    plt.plot(history.history['loss'])\n",
    "    plt.plot(history.history['val_loss'])\n",
    "    plt.title('model loss')\n",
    "    plt.ylabel('loss')\n",
    "    plt.xlabel('epoch')\n",
    "    plt.legend(['train', 'test_val'], loc='upper left')\n",
    "    plt.show()\n",
    "    \n",
    "        "
   ]
  },
  {
   "cell_type": "markdown",
   "metadata": {},
   "source": [
    "### Prediction on canvas data with all data "
   ]
  },
  {
   "cell_type": "code",
   "execution_count": null,
   "metadata": {},
   "outputs": [],
   "source": [
    "n = 10 #amount of trials we do\n",
    "Y_predtot = np.zeros((n, X_scaledR.shape[0]))\n",
    "\n",
    "for i in range(n):\n",
    "    model = NN_model()\n",
    "    X_train = X_scaled\n",
    "    y_train = y      \n",
    "        \n",
    "    # creating new arrays for augmented data\n",
    "    X_DA = np.zeros((X_train.shape[0]*10, X_train.shape[1]))\n",
    "    Y_DA = np.zeros(X_train.shape[0]*10)\n",
    "    X = X_train\n",
    "    Y = y_train\n",
    "        \n",
    "    for j in range(10):\n",
    "        X_DA = radiation_noise(X_train)\n",
    "        Y_DA = y_train\n",
    "        X = np.concatenate((X, X_DA))  \n",
    "        Y = np.concatenate((Y, Y_DA))\n",
    "        \n",
    "    # Combining new data plus original data\n",
    "    history = model.fit(X,Y,epochs=80,batch_size=100,validation_data=(X_val, y_val))\n",
    "    #model.fit(X,Y,epochs=300,batch_size=100)\n",
    "        \n",
    "    ypred = model.predict_classes(X_scaledR)\n",
    "    Y_predtot[i,:] = ypred.reshape(X_scaledR.shape[0])\n"
   ]
  },
  {
   "cell_type": "code",
   "execution_count": null,
   "metadata": {},
   "outputs": [],
   "source": [
    "Y_predtot = np.transpose(Y_predtot)\n",
    "df = pd.DataFrame (Y_predtot)\n",
    "\n",
    "## save to xlsx file\n",
    "\n",
    "filepath = 'result_tot.xlsx'\n",
    "\n",
    "df.to_excel(filepath, index=False)\n",
    "\n",
    "#df.to_csv(r'C:\\Users\\Emelie\\Documents\\Modern method in ML\\Project\\NN\\Results\\extra_data_{}.csv'.format(name) )"
   ]
  },
  {
   "cell_type": "markdown",
   "metadata": {},
   "source": []
  }
 ],
 "metadata": {
  "kernelspec": {
   "display_name": "Python 3",
   "language": "python",
   "name": "python3"
  },
  "language_info": {
   "codemirror_mode": {
    "name": "ipython",
    "version": 3
   },
   "file_extension": ".py",
   "mimetype": "text/x-python",
   "name": "python",
   "nbconvert_exporter": "python",
   "pygments_lexer": "ipython3",
   "version": "3.7.6"
  }
 },
 "nbformat": 4,
 "nbformat_minor": 4
}
