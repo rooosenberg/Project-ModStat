{
 "cells": [
  {
   "cell_type": "markdown",
   "metadata": {},
   "source": [
    "# SVM \n",
    "Support vector machine algoithm on the Spotify data set "
   ]
  },
  {
   "cell_type": "code",
   "execution_count": 54,
   "metadata": {},
   "outputs": [],
   "source": [
    "import numpy as np\n",
    "import matplotlib.pyplot as plt\n",
    "from sklearn import neighbors\n",
    "from sklearn.model_selection import KFold\n",
    "from sklearn.model_selection import cross_val_score\n",
    "\n",
    "import pandas as pd\n",
    "%matplotlib inline\n",
    "\n",
    "# visualization library\n",
    "import seaborn as sns\n",
    "sns.set(style=\"white\", color_codes=True)\n",
    "sns.set_context(rc={\"font.family\":'sans',\"font.size\":24,\"axes.titlesize\":24,\"axes.labelsize\":24})   \n",
    "\n",
    "# change the theme\n",
    "!jt -t gruvboxd -T"
   ]
  },
  {
   "cell_type": "code",
   "execution_count": 55,
   "metadata": {},
   "outputs": [],
   "source": [
    "# download test data\n",
    "df = pd.read_csv (r'C:\\Users\\Emelie\\Documents\\Modern method in ML\\Project\\project_train.csv')\n",
    "# download train data that's given from canvas\n",
    "X_testR = pd.read_csv (r'C:\\Users\\Emelie\\Documents\\Modern method in ML\\Project\\project_test.csv')\n",
    "\n",
    "# take out outliers\n",
    "df = df.drop([68,94,84], axis=0)\n",
    "df.describe()\n",
    "\n",
    "X = df.iloc[:, :-1].values\n",
    "y = df.iloc[:, 11].values\n",
    "\n",
    "# we split the training data into validation and training data\n",
    "from sklearn.model_selection import train_test_split\n",
    "X_train, X_test, y_train, y_test = train_test_split(X, y, test_size=0.20)"
   ]
  },
  {
   "cell_type": "markdown",
   "metadata": {},
   "source": [
    "#### Scale the data"
   ]
  },
  {
   "cell_type": "code",
   "execution_count": 56,
   "metadata": {},
   "outputs": [],
   "source": [
    "from sklearn.preprocessing import StandardScaler\n",
    "scaler = StandardScaler()\n",
    "scaler.fit(X_train) # scale against train data\n",
    "\n",
    "X_scaled = scaler.transform(X)\n",
    "# Given test data from canvas \n",
    "X_scaledR = scaler.transform(X_testR)"
   ]
  },
  {
   "cell_type": "markdown",
   "metadata": {},
   "source": [
    "#### SVM with Sklearn"
   ]
  },
  {
   "cell_type": "code",
   "execution_count": 57,
   "metadata": {},
   "outputs": [],
   "source": [
    "from sklearn import svm\n",
    "\n",
    "svm_clf = svm.SVC()"
   ]
  },
  {
   "cell_type": "markdown",
   "metadata": {},
   "source": [
    "#### Find the best parameters with gridsearch"
   ]
  },
  {
   "cell_type": "code",
   "execution_count": 58,
   "metadata": {},
   "outputs": [
    {
     "name": "stdout",
     "output_type": "stream",
     "text": [
      "0.775\n",
      "{'C': 185, 'gamma': 0.006, 'kernel': 'rbf'}\n"
     ]
    }
   ],
   "source": [
    "from sklearn.model_selection import GridSearchCV\n",
    "\n",
    "param_grid = {'gamma': [0.006,0.055],'C' : [185,186,184], 'kernel': ['rbf','poly','linear']}\n",
    "search = GridSearchCV(svm_clf, param_grid, cv=10,scoring='accuracy')\n",
    "X_scaled = scaler.transform(X)\n",
    "search.fit(X_scaled,y)\n",
    "print(search.best_score_)\n",
    "print(search.best_params_)\n",
    "\n"
   ]
  },
  {
   "cell_type": "markdown",
   "metadata": {},
   "source": [
    "#### Apply SVM with cross validation "
   ]
  },
  {
   "cell_type": "code",
   "execution_count": 62,
   "metadata": {},
   "outputs": [
    {
     "name": "stdout",
     "output_type": "stream",
     "text": [
      "0.8354166666666666\n",
      "0.0036848958333333334\n"
     ]
    }
   ],
   "source": [
    "# classifier with best parameters\n",
    "svm_clf = svm.SVC(gamma=0.006,C=185,kernel='rbf')\n",
    "\n",
    "scores = cross_val_score(svm_clf, X_scaled, y, cv=KFold(n_splits=10, random_state=1234, shuffle=True), scoring = 'accuracy')\n",
    "print(np.mean(scores))\n",
    "print(np.var(scores))"
   ]
  },
  {
   "cell_type": "markdown",
   "metadata": {},
   "source": [
    "#### Test prediction with sklearns fit and predict"
   ]
  },
  {
   "cell_type": "code",
   "execution_count": 63,
   "metadata": {},
   "outputs": [
    {
     "name": "stdout",
     "output_type": "stream",
     "text": [
      "0.7291666666666666\n"
     ]
    }
   ],
   "source": [
    "svm_clf.fit(X_train, y_train)\n",
    "ypred = svm_clf.predict(X_test)\n",
    "results = svm_clf.score(X_test, y_test)\n",
    "print(results)"
   ]
  },
  {
   "cell_type": "markdown",
   "metadata": {},
   "source": [
    "### Use unlable data from Spotify"
   ]
  },
  {
   "cell_type": "code",
   "execution_count": 19,
   "metadata": {},
   "outputs": [],
   "source": [
    "df_AB = pd.read_csv (r'C:\\Users\\Emelie\\Documents\\Modern method in ML\\Project\\Extra_data\\extra_data_Andrew Belle.csv')\n",
    "df_AV = pd.read_csv (r'C:\\Users\\Emelie\\Documents\\Modern method in ML\\Project\\Extra_data\\extra_data_Avicii.csv')\n",
    "df_VJ = pd.read_csv (r'C:\\Users\\Emelie\\Documents\\Modern method in ML\\Project\\Extra_data\\extra_data_Vance Joy.csv')\n",
    "df_IM = pd.read_csv (r'C:\\Users\\Emelie\\Documents\\Modern method in ML\\Project\\Extra_data\\extra_data_Iron Maiden.csv')\n",
    "df_LG = pd.read_csv (r'C:\\Users\\Emelie\\Documents\\Modern method in ML\\Project\\Extra_data\\extra_data_Lady Gaga.csv') \n",
    "\n",
    "AB = df_AB.to_numpy()\n",
    "AV = df_AV.to_numpy()\n",
    "VJ = df_VJ.to_numpy()\n",
    "IM = df_IM.to_numpy()\n",
    "LG = df_LG.to_numpy()\n",
    "\n",
    "X_unlab = np.concatenate((AB, AV, VJ, IM, LG))\n",
    "X_unlab = X_unlab[:, 7: ]\n",
    "\n",
    "X_unlab_scaled = scaler.transform(X_unlab)"
   ]
  },
  {
   "cell_type": "markdown",
   "metadata": {},
   "source": [
    "#### Outliers"
   ]
  },
  {
   "cell_type": "code",
   "execution_count": 20,
   "metadata": {},
   "outputs": [
    {
     "data": {
      "text/html": [
       "<div>\n",
       "<style scoped>\n",
       "    .dataframe tbody tr th:only-of-type {\n",
       "        vertical-align: middle;\n",
       "    }\n",
       "\n",
       "    .dataframe tbody tr th {\n",
       "        vertical-align: top;\n",
       "    }\n",
       "\n",
       "    .dataframe thead th {\n",
       "        text-align: right;\n",
       "    }\n",
       "</style>\n",
       "<table border=\"1\" class=\"dataframe\">\n",
       "  <thead>\n",
       "    <tr style=\"text-align: right;\">\n",
       "      <th></th>\n",
       "      <th>Variable</th>\n",
       "      <th>% Outliers</th>\n",
       "    </tr>\n",
       "  </thead>\n",
       "  <tbody>\n",
       "    <tr>\n",
       "      <th>7</th>\n",
       "      <td>7</td>\n",
       "      <td>22.621185</td>\n",
       "    </tr>\n",
       "    <tr>\n",
       "      <th>8</th>\n",
       "      <td>8</td>\n",
       "      <td>7.899461</td>\n",
       "    </tr>\n",
       "    <tr>\n",
       "      <th>3</th>\n",
       "      <td>3</td>\n",
       "      <td>5.745063</td>\n",
       "    </tr>\n",
       "    <tr>\n",
       "      <th>5</th>\n",
       "      <td>5</td>\n",
       "      <td>5.385996</td>\n",
       "    </tr>\n",
       "    <tr>\n",
       "      <th>9</th>\n",
       "      <td>9</td>\n",
       "      <td>1.974865</td>\n",
       "    </tr>\n",
       "    <tr>\n",
       "      <th>0</th>\n",
       "      <td>0</td>\n",
       "      <td>0.718133</td>\n",
       "    </tr>\n",
       "    <tr>\n",
       "      <th>1</th>\n",
       "      <td>1</td>\n",
       "      <td>0.000000</td>\n",
       "    </tr>\n",
       "    <tr>\n",
       "      <th>2</th>\n",
       "      <td>2</td>\n",
       "      <td>0.000000</td>\n",
       "    </tr>\n",
       "    <tr>\n",
       "      <th>4</th>\n",
       "      <td>4</td>\n",
       "      <td>0.000000</td>\n",
       "    </tr>\n",
       "    <tr>\n",
       "      <th>6</th>\n",
       "      <td>6</td>\n",
       "      <td>0.000000</td>\n",
       "    </tr>\n",
       "    <tr>\n",
       "      <th>10</th>\n",
       "      <td>10</td>\n",
       "      <td>0.000000</td>\n",
       "    </tr>\n",
       "  </tbody>\n",
       "</table>\n",
       "</div>"
      ],
      "text/plain": [
       "    Variable  % Outliers\n",
       "7          7   22.621185\n",
       "8          8    7.899461\n",
       "3          3    5.745063\n",
       "5          5    5.385996\n",
       "9          9    1.974865\n",
       "0          0    0.718133\n",
       "1          1    0.000000\n",
       "2          2    0.000000\n",
       "4          4    0.000000\n",
       "6          6    0.000000\n",
       "10        10    0.000000"
      ]
     },
     "execution_count": 20,
     "metadata": {},
     "output_type": "execute_result"
    }
   ],
   "source": [
    "df = pd.DataFrame(X_unlab) \n",
    "\n",
    "outliers_percentage = []\n",
    "variables = []\n",
    "for k, v in df.items():\n",
    "    Q1 = v.quantile(0.25)\n",
    "    Q3 = v.quantile(0.75)\n",
    "    IRQ = Q3 - Q1\n",
    "    v_col = v[(v <= Q1 - 1.5 * IRQ) | (v >= Q3 + 1.5 * IRQ)]\n",
    "    perc = np.shape(v_col)[0] * 100.0 / np.shape(df)[0]\n",
    "    outliers_percentage.append(perc)\n",
    "    variables.append(k)\n",
    "#     print(\"Column %s outliers = %.2f%%\" % (k, perc))\n",
    "\n",
    "outliers = pd.DataFrame({'Variable':variables, '% Outliers':outliers_percentage })\n",
    "outliers.sort_values(by=[\"% Outliers\"],ascending=False)"
   ]
  },
  {
   "cell_type": "markdown",
   "metadata": {},
   "source": [
    "#### Running model"
   ]
  },
  {
   "cell_type": "code",
   "execution_count": 44,
   "metadata": {},
   "outputs": [],
   "source": [
    "svm_clf = svm.SVC()\n",
    "svm_clf.fit(X_train, y_train)\n",
    "\n",
    "K = 10\n",
    "C_max = 200.0\n",
    "C_labeled = 180.0\n",
    "C_unlabeled_0 =  C_labeled/(10*K) \n",
    "\n",
    "for k in range(K):\n",
    "    Y_unlab = svm_clf.predict(X_unlab_scaled)\n",
    "\n",
    "    #Update weight factor\n",
    "    C_unlabeled = (C_max - C_unlabeled_0)/(K**2)*k**2 + C_unlabeled_0\n",
    "\n",
    "    X_new_fit = np.concatenate((X_train, X_unlab_scaled))\n",
    "    Y_new_fit = np.concatenate((y_train, Y_unlab))\n",
    "\n",
    "    #Retrain the TSVM\n",
    "    svm_clf.fit(X_new_fit, Y_new_fit, sample_weight=np.concatenate((C_labeled*np.ones(y_train.shape), C_unlabeled*np.ones(Y_unlab.shape))))"
   ]
  },
  {
   "cell_type": "code",
   "execution_count": 45,
   "metadata": {},
   "outputs": [
    {
     "name": "stdout",
     "output_type": "stream",
     "text": [
      "0.6666666666666666\n"
     ]
    }
   ],
   "source": [
    "ypred = svm_clf.predict(X_test)\n",
    "results = svm_clf.score(X_test, y_test)\n",
    "print(results)"
   ]
  },
  {
   "cell_type": "code",
   "execution_count": null,
   "metadata": {},
   "outputs": [],
   "source": []
  }
 ],
 "metadata": {
  "kernelspec": {
   "display_name": "Python 3",
   "language": "python",
   "name": "python3"
  },
  "language_info": {
   "codemirror_mode": {
    "name": "ipython",
    "version": 3
   },
   "file_extension": ".py",
   "mimetype": "text/x-python",
   "name": "python",
   "nbconvert_exporter": "python",
   "pygments_lexer": "ipython3",
   "version": "3.7.6"
  }
 },
 "nbformat": 4,
 "nbformat_minor": 4
}
