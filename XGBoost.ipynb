{
 "cells": [
  {
   "cell_type": "markdown",
   "metadata": {},
   "source": [
    "# XGBoost"
   ]
  },
  {
   "cell_type": "code",
   "execution_count": null,
   "metadata": {},
   "outputs": [],
   "source": [
    "import pandas as pd\n",
    "%matplotlib inline\n",
    "\n",
    "from xgboost import XGBClassifier\n",
    "from sklearn.model_selection import GridSearchCV\n",
    "import numpy as np\n",
    "import matplotlib.pyplot as plt\n",
    "\n",
    "from sklearn.model_selection import KFold\n",
    "from sklearn.model_selection import cross_val_score"
   ]
  },
  {
   "cell_type": "code",
   "execution_count": null,
   "metadata": {},
   "outputs": [],
   "source": [
    "# download test data\n",
    "df = pd.read_csv (r'C:\\Users\\Emelie\\Documents\\Modern method in ML\\Project\\project_train.csv')\n",
    "# download train data that's given from canvas\n",
    "X_testR = pd.read_csv (r'C:\\Users\\Emelie\\Documents\\Modern method in ML\\Project\\project_test.csv')"
   ]
  },
  {
   "cell_type": "markdown",
   "metadata": {},
   "source": [
    "Take away outliers"
   ]
  },
  {
   "cell_type": "code",
   "execution_count": null,
   "metadata": {},
   "outputs": [],
   "source": [
    "df = df.drop([68,94,84], axis=0)"
   ]
  },
  {
   "cell_type": "code",
   "execution_count": null,
   "metadata": {},
   "outputs": [],
   "source": [
    "X = df.iloc[:, :-1].values\n",
    "y = df.iloc[:, 11].values\n",
    "\n",
    "# we split the training data into validation and training data\n",
    "from sklearn.model_selection import train_test_split\n",
    "X_train, X_test, y_train, y_test = train_test_split(X, y, test_size=0.20)\n"
   ]
  },
  {
   "cell_type": "markdown",
   "metadata": {},
   "source": [
    "### Scaling the data "
   ]
  },
  {
   "cell_type": "code",
   "execution_count": null,
   "metadata": {},
   "outputs": [],
   "source": [
    "from sklearn.preprocessing import StandardScaler\n",
    "scaler = StandardScaler()\n",
    "scaler.fit(X_train) # scale against train data\n",
    "\n",
    "X_train = scaler.transform(X_train)\n",
    "X_test = scaler.transform(X_test)\n",
    "\n",
    "scaler = StandardScaler()\n",
    "scaler.fit(X) # scale against train data\n",
    "\n",
    "# for cross validation and finished model\n",
    "X_scaled = scaler.transform(X)\n",
    "# Given test data from canvas \n",
    "X_scaledR = scaler.transform(X_testR)"
   ]
  },
  {
   "cell_type": "code",
   "execution_count": null,
   "metadata": {},
   "outputs": [],
   "source": [
    "from sklearn import preprocessing\n",
    "\n",
    "min_max_scaler = preprocessing.MinMaxScaler()\n",
    "X_scaled = min_max_scaler.fit_transform(X)"
   ]
  },
  {
   "cell_type": "markdown",
   "metadata": {},
   "source": [
    "### XGBoost Dart\n",
    "The \"Dart\" model take away some features and trees"
   ]
  },
  {
   "cell_type": "code",
   "execution_count": null,
   "metadata": {},
   "outputs": [],
   "source": [
    "xgb_clf = XGBClassifier(booster='dart',learning_rate=0.15,max_depth=6)\n",
    "\n",
    "scores = cross_val_score(xgb_clf, X_scaled, y, cv=KFold(n_splits=10, random_state=1234, shuffle=True), scoring = 'accuracy')\n",
    "print(np.mean(scores))\n",
    "print(np.var(scores))\n",
    "print(np.std(scores))"
   ]
  },
  {
   "cell_type": "markdown",
   "metadata": {},
   "source": [
    "### Feature selection\n",
    "Doesn't help! "
   ]
  },
  {
   "cell_type": "code",
   "execution_count": null,
   "metadata": {},
   "outputs": [],
   "source": [
    "from sklearn.feature_selection import SelectKBest, chi2\n",
    "\n",
    "\n",
    "xgb_clf = XGBClassifier(booster='dart',learning_rate=0.15,max_depth=6)\n",
    "acc2 = []\n",
    "var2 = []\n",
    "features =  range(2, 11)\n",
    "for i in features: \n",
    "    X_new = SelectKBest(chi2 , k=i).fit_transform(X_scaled, y)\n",
    "    acc_temp = cross_val_score(xgb_clf, X_new, y, cv=KFold(n_splits=10, random_state=1234, shuffle=True))\n",
    "    acc2.append(acc_temp.mean())\n",
    "    var2.append(acc_temp.var())\n",
    "\n",
    "\n",
    "plt.errorbar(features, acc2, yerr = var2) \n",
    "  \n",
    "plt.title('Dimensionality reduction analysis') \n",
    "plt.ylabel('Accuracy')\n",
    "plt.xlabel('K top features')\n",
    "plt.show() "
   ]
  },
  {
   "cell_type": "code",
   "execution_count": null,
   "metadata": {},
   "outputs": [],
   "source": [
    "xgb_clf = XGBClassifier(booster='dart',learning_rate=0.15,max_depth=6)\n",
    "X_new = SelectKBest(chi2 , k=7).fit_transform(X_scaled, y)\n",
    "acc = cross_val_score(xgb_clf, X_new, y, cv=KFold(n_splits=10, random_state=1234, shuffle=True))\n",
    "print(\"Accuracy: \", acc.mean(), \"(+/-\",  acc.var(),\")\")"
   ]
  },
  {
   "cell_type": "markdown",
   "metadata": {},
   "source": [
    "#### Gridsearch"
   ]
  },
  {
   "cell_type": "code",
   "execution_count": null,
   "metadata": {},
   "outputs": [],
   "source": [
    "model = XGBClassifier()\n",
    "clf = GridSearchCV(model,\n",
    "                  {'booster':['dart'], 'learning_rate':[0.15],\n",
    "                   'max_depth':[6], 'n_estimators': [20,55,80], \n",
    "                   'n_jobs':[1,10,20], 'num_parallel_tree': [1,5,10] })\n",
    "clf.fit(X_train, y_train)\n",
    "print('Best params for DART')\n",
    "print(clf.best_score_)\n",
    "print(clf.best_params_)"
   ]
  },
  {
   "cell_type": "markdown",
   "metadata": {},
   "source": [
    "### Run model on canvas data"
   ]
  },
  {
   "cell_type": "code",
   "execution_count": null,
   "metadata": {},
   "outputs": [],
   "source": [
    "xgb_clf = XGBClassifier(booster='dart',learning_rate=0.15,max_depth=6)\n",
    "\n",
    "xgb_clf.fit(X_scaled, y)\n",
    "ypred = xgb_clf.predict(X_scaledR)\n",
    "print(ypred)\n",
    "#make it to a dataframe\n",
    "df = pd.DataFrame(ypred)\n",
    "#save to xlsx file\n",
    "filepath = 'result_10.xlsx'.format()\n",
    "#Save to computer\n",
    "df.to_excel(filepath, index=False)"
   ]
  },
  {
   "cell_type": "markdown",
   "metadata": {},
   "source": []
  }
 ],
 "metadata": {
  "kernelspec": {
   "display_name": "Python 3",
   "language": "python",
   "name": "python3"
  },
  "language_info": {
   "codemirror_mode": {
    "name": "ipython",
    "version": 3
   },
   "file_extension": ".py",
   "mimetype": "text/x-python",
   "name": "python",
   "nbconvert_exporter": "python",
   "pygments_lexer": "ipython3",
   "version": "3.7.6"
  }
 },
 "nbformat": 4,
 "nbformat_minor": 4
}
